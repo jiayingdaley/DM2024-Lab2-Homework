{
 "cells": [
  {
   "cell_type": "code",
   "execution_count": 1,
   "id": "f47695f2",
   "metadata": {
    "_cell_guid": "b1076dfc-b9ad-4769-8c92-a6c4dae69d19",
    "_uuid": "8f2839f25d086af736a60e9eeb907d3b93b6e0e5",
    "execution": {
     "iopub.execute_input": "2024-12-07T15:00:27.280936Z",
     "iopub.status.busy": "2024-12-07T15:00:27.280585Z",
     "iopub.status.idle": "2024-12-07T15:00:27.954359Z",
     "shell.execute_reply": "2024-12-07T15:00:27.953379Z"
    },
    "papermill": {
     "duration": 0.678584,
     "end_time": "2024-12-07T15:00:27.956119",
     "exception": false,
     "start_time": "2024-12-07T15:00:27.277535",
     "status": "completed"
    },
    "tags": []
   },
   "outputs": [
    {
     "name": "stdout",
     "output_type": "stream",
     "text": [
      "/kaggle/input/dm-2024-isa-5810-lab-2-homework/tweets_DM.json\n",
      "/kaggle/input/dm-2024-isa-5810-lab-2-homework/sampleSubmission.csv\n",
      "/kaggle/input/dm-2024-isa-5810-lab-2-homework/data_identification.csv\n",
      "/kaggle/input/dm-2024-isa-5810-lab-2-homework/emotion.csv\n"
     ]
    }
   ],
   "source": [
    "# This Python 3 environment comes with many helpful analytics libraries installed\n",
    "# It is defined by the kaggle/python Docker image: https://github.com/kaggle/docker-python\n",
    "# For example, here's several helpful packages to load\n",
    "\n",
    "import numpy as np # linear algebra\n",
    "import pandas as pd # data processing, CSV file I/O (e.g. pd.read_csv)\n",
    "\n",
    "# Input data files are available in the read-only \"../input/\" directory\n",
    "# For example, running this (by clicking run or pressing Shift+Enter) will list all files under the input directory\n",
    "\n",
    "import os\n",
    "for dirname, _, filenames in os.walk('/kaggle/input'):\n",
    "    for filename in filenames:\n",
    "        print(os.path.join(dirname, filename))\n",
    "\n",
    "# You can write up to 20GB to the current directory (/kaggle/working/) that gets preserved as output when you create a version using \"Save & Run All\" \n",
    "# You can also write temporary files to /kaggle/temp/, but they won't be saved outside of the current session"
   ]
  },
  {
   "cell_type": "code",
   "execution_count": 2,
   "id": "6a5f8e64",
   "metadata": {
    "execution": {
     "iopub.execute_input": "2024-12-07T15:00:27.960997Z",
     "iopub.status.busy": "2024-12-07T15:00:27.960653Z",
     "iopub.status.idle": "2024-12-07T15:12:57.221373Z",
     "shell.execute_reply": "2024-12-07T15:12:57.220468Z"
    },
    "papermill": {
     "duration": 749.265208,
     "end_time": "2024-12-07T15:12:57.223289",
     "exception": false,
     "start_time": "2024-12-07T15:00:27.958081",
     "status": "completed"
    },
    "tags": []
   },
   "outputs": [
    {
     "name": "stdout",
     "output_type": "stream",
     "text": [
      "Validation F1 Score: 0.5254\n"
     ]
    },
    {
     "name": "stdout",
     "output_type": "stream",
     "text": [
      "Submission file saved as submission.csv\n"
     ]
    }
   ],
   "source": [
    "import pandas as pd\n",
    "from sklearn.feature_extraction.text import TfidfVectorizer\n",
    "from sklearn.linear_model import LogisticRegression\n",
    "from sklearn.pipeline import Pipeline\n",
    "from sklearn.model_selection import train_test_split\n",
    "from sklearn.metrics import f1_score\n",
    "\n",
    "# 讀取數據\n",
    "data_identification = pd.read_csv('/kaggle/input/dm-2024-isa-5810-lab-2-homework/data_identification.csv')\n",
    "emotion = pd.read_csv('/kaggle/input/dm-2024-isa-5810-lab-2-homework/emotion.csv')\n",
    "tweets = pd.read_json('/kaggle/input/dm-2024-isa-5810-lab-2-homework/tweets_DM.json', lines=True)\n",
    "\n",
    "# 提取嵌套的 tweet_id 和 text\n",
    "tweets['tweet_id'] = tweets['_source'].apply(lambda x: x['tweet']['tweet_id'])\n",
    "tweets['text'] = tweets['_source'].apply(lambda x: x['tweet']['text'])\n",
    "\n",
    "# 合併數據\n",
    "data = pd.merge(data_identification, emotion, on='tweet_id', how='left')\n",
    "data = pd.merge(data, tweets, on='tweet_id')\n",
    "\n",
    "# 分割訓練集和測試集\n",
    "train_data = data[data['identification'] == 'train']\n",
    "test_data = data[data['identification'] == 'test']\n",
    "\n",
    "# 簡單的數據預處理\n",
    "train_data.loc[:, 'text'] = train_data['text'].str.lower()\n",
    "test_data.loc[:, 'text'] = test_data['text'].str.lower()\n",
    "\n",
    "# 分割特徵和標籤\n",
    "X = train_data['text']\n",
    "y = train_data['emotion']\n",
    "\n",
    "# 分割訓練集和驗證集\n",
    "X_train, X_val, y_train, y_val = train_test_split(X, y, test_size=0.2, random_state=42)\n",
    "\n",
    "# 建立模型管道\n",
    "pipeline = Pipeline([\n",
    "    ('tfidf', TfidfVectorizer(max_features=10000)),\n",
    "    ('clf', LogisticRegression(max_iter=1000))\n",
    "])\n",
    "\n",
    "# 訓練模型\n",
    "pipeline.fit(X_train, y_train)\n",
    "\n",
    "# 驗證模型\n",
    "val_predictions = pipeline.predict(X_val)\n",
    "val_score = f1_score(y_val, val_predictions, average='weighted')\n",
    "print(f'Validation F1 Score: {val_score:.4f}')\n",
    "\n",
    "# 預測測試集\n",
    "test_predictions = pipeline.predict(test_data['text'])\n",
    "\n",
    "# 準備提交文件\n",
    "submission = pd.DataFrame({\n",
    "    'id': test_data['tweet_id'],\n",
    "    'emotion': test_predictions\n",
    "})\n",
    "\n",
    "# 保存提交文件\n",
    "submission.to_csv('submission.csv', index=False)\n",
    "print('Submission file saved as submission.csv')\n"
   ]
  },
  {
   "cell_type": "code",
   "execution_count": 3,
   "id": "4ea24cf9",
   "metadata": {
    "execution": {
     "iopub.execute_input": "2024-12-07T15:12:57.228551Z",
     "iopub.status.busy": "2024-12-07T15:12:57.227755Z"
    },
    "papermill": {
     "duration": null,
     "end_time": null,
     "exception": false,
     "start_time": "2024-12-07T15:12:57.225129",
     "status": "running"
    },
    "tags": []
   },
   "outputs": [
    {
     "name": "stderr",
     "output_type": "stream",
     "text": [
      "/opt/conda/lib/python3.10/site-packages/sklearn/linear_model/_logistic.py:458: ConvergenceWarning: lbfgs failed to converge (status=1):\n",
      "STOP: TOTAL NO. of ITERATIONS REACHED LIMIT.\n",
      "\n",
      "Increase the number of iterations (max_iter) or scale the data as shown in:\n",
      "    https://scikit-learn.org/stable/modules/preprocessing.html\n",
      "Please also refer to the documentation for alternative solver options:\n",
      "    https://scikit-learn.org/stable/modules/linear_model.html#logistic-regression\n",
      "  n_iter_i = _check_optimize_result(\n"
     ]
    },
    {
     "name": "stderr",
     "output_type": "stream",
     "text": [
      "/opt/conda/lib/python3.10/site-packages/sklearn/linear_model/_logistic.py:458: ConvergenceWarning: lbfgs failed to converge (status=1):\n",
      "STOP: TOTAL NO. of ITERATIONS REACHED LIMIT.\n",
      "\n",
      "Increase the number of iterations (max_iter) or scale the data as shown in:\n",
      "    https://scikit-learn.org/stable/modules/preprocessing.html\n",
      "Please also refer to the documentation for alternative solver options:\n",
      "    https://scikit-learn.org/stable/modules/linear_model.html#logistic-regression\n",
      "  n_iter_i = _check_optimize_result(\n"
     ]
    }
   ],
   "source": [
    "import pandas as pd\n",
    "import numpy as np\n",
    "from sklearn.feature_extraction.text import TfidfVectorizer\n",
    "from sklearn.linear_model import LogisticRegression\n",
    "from sklearn.pipeline import Pipeline\n",
    "from sklearn.model_selection import train_test_split, GridSearchCV\n",
    "from sklearn.metrics import f1_score\n",
    "from sklearn.utils import resample\n",
    "\n",
    "# 讀取數據\n",
    "data_identification = pd.read_csv('/kaggle/input/dm-2024-isa-5810-lab-2-homework/data_identification.csv')\n",
    "emotion = pd.read_csv('/kaggle/input/dm-2024-isa-5810-lab-2-homework/emotion.csv')\n",
    "tweets = pd.read_json('/kaggle/input/dm-2024-isa-5810-lab-2-homework/tweets_DM.json', lines=True)\n",
    "\n",
    "# 提取嵌套的 tweet_id 和 text\n",
    "tweets['tweet_id'] = tweets['_source'].apply(lambda x: x['tweet']['tweet_id'])\n",
    "tweets['text'] = tweets['_source'].apply(lambda x: x['tweet']['text'])\n",
    "\n",
    "# 合併數據\n",
    "data = pd.merge(data_identification, emotion, on='tweet_id', how='left')\n",
    "data = pd.merge(data, tweets, on='tweet_id')\n",
    "\n",
    "# 分割訓練集和測試集\n",
    "train_data = data[data['identification'] == 'train']\n",
    "test_data = data[data['identification'] == 'test']\n",
    "\n",
    "# 數據清洗和預處理\n",
    "train_data.loc[:, 'text'] = train_data['text'].str.lower().str.replace(r'http\\S+|www.\\S+', '', case=False)\n",
    "test_data.loc[:, 'text'] = test_data['text'].str.lower().str.replace(r'http\\S+|www.\\S+', '', case=False)\n",
    "\n",
    "# 分割特徵和標籤\n",
    "X = train_data['text']\n",
    "y = train_data['emotion']\n",
    "\n",
    "# 數據增強：上採樣少數類別\n",
    "train_data_majority = train_data[train_data.emotion == 'joy']\n",
    "train_data_minority = train_data[train_data.emotion != 'joy']\n",
    "\n",
    "train_data_minority_upsampled = resample(train_data_minority, \n",
    "                                         replace=True,     # 取樣替換\n",
    "                                         n_samples=len(train_data_majority),    # 使少數類別數量等於多數類別\n",
    "                                         random_state=123) # 固定隨機種子\n",
    "\n",
    "train_data_upsampled = pd.concat([train_data_majority, train_data_minority_upsampled])\n",
    "\n",
    "# 更新特徵和標籤\n",
    "X = train_data_upsampled['text']\n",
    "y = train_data_upsampled['emotion']\n",
    "\n",
    "# 分割訓練集和驗證集\n",
    "X_train, X_val, y_train, y_val = train_test_split(X, y, test_size=0.2, random_state=42)\n",
    "\n",
    "# 建立模型管道\n",
    "pipeline = Pipeline([\n",
    "    ('tfidf', TfidfVectorizer(max_features=5000)),  # 減少特徵數量\n",
    "    ('clf', LogisticRegression(max_iter=1000))\n",
    "])\n",
    "\n",
    "# 模型選擇和調參\n",
    "param_grid = {\n",
    "    'tfidf__max_features': [5000],\n",
    "    'clf__C': [0.1, 1, 10]\n",
    "}\n",
    "\n",
    "grid_search = GridSearchCV(pipeline, param_grid, cv=3, scoring='f1_weighted')  # 減少交叉驗證次數\n",
    "grid_search.fit(X_train, y_train)\n",
    "\n",
    "# 最佳模型\n",
    "best_model = grid_search.best_estimator_\n",
    "\n",
    "# 驗證模型\n",
    "val_predictions = best_model.predict(X_val)\n",
    "val_score = f1_score(y_val, val_predictions, average='weighted')\n",
    "print(f'Validation F1 Score: {val_score:.4f}')\n",
    "\n",
    "# 預測測試集\n",
    "test_predictions = best_model.predict(test_data['text'])\n",
    "\n",
    "# 準備提交文件\n",
    "submission = pd.DataFrame({\n",
    "    'id': test_data['tweet_id'],\n",
    "    'emotion': test_predictions\n",
    "})\n",
    "\n",
    "# 保存提交文件\n",
    "submission.to_csv('submission.csv', index=False)\n",
    "print('Submission file saved as submission.csv')\n"
   ]
  },
  {
   "cell_type": "code",
   "execution_count": null,
   "id": "2e70fdae",
   "metadata": {
    "papermill": {
     "duration": null,
     "end_time": null,
     "exception": null,
     "start_time": null,
     "status": "pending"
    },
    "tags": []
   },
   "outputs": [],
   "source": []
  }
 ],
 "metadata": {
  "kaggle": {
   "accelerator": "nvidiaTeslaT4",
   "dataSources": [
    {
     "databundleVersionId": 9912598,
     "sourceId": 87232,
     "sourceType": "competition"
    }
   ],
   "dockerImageVersionId": 30805,
   "isGpuEnabled": true,
   "isInternetEnabled": true,
   "language": "python",
   "sourceType": "notebook"
  },
  "kernelspec": {
   "display_name": "Python 3",
   "language": "python",
   "name": "python3"
  },
  "language_info": {
   "codemirror_mode": {
    "name": "ipython",
    "version": 3
   },
   "file_extension": ".py",
   "mimetype": "text/x-python",
   "name": "python",
   "nbconvert_exporter": "python",
   "pygments_lexer": "ipython3",
   "version": "3.10.14"
  },
  "papermill": {
   "default_parameters": {},
   "duration": null,
   "end_time": null,
   "environment_variables": {},
   "exception": null,
   "input_path": "__notebook__.ipynb",
   "output_path": "__notebook__.ipynb",
   "parameters": {},
   "start_time": "2024-12-07T15:00:24.919936",
   "version": "2.6.0"
  }
 },
 "nbformat": 4,
 "nbformat_minor": 5
}